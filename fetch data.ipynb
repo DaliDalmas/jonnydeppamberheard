{
 "cells": [
  {
   "cell_type": "markdown",
   "id": "efb96d1f-212b-41a9-93c9-4b71aaa63929",
   "metadata": {},
   "source": [
    "## lets fetch and format the data"
   ]
  },
  {
   "cell_type": "code",
   "execution_count": 163,
   "id": "49c3f3f4-f9a8-47e5-a5b5-c333d3212262",
   "metadata": {},
   "outputs": [],
   "source": [
    "import requests\n",
    "from bs4 import BeautifulSoup\n",
    "import pandas as pd\n",
    "import time"
   ]
  },
  {
   "cell_type": "code",
   "execution_count": 164,
   "id": "44fc12c3-38a5-45df-a8fa-57e4f8348eb1",
   "metadata": {},
   "outputs": [],
   "source": [
    "jonny_url = 'https://www.rottentomatoes.com/celebrity/oprah_noodlemantra'\n",
    "amber_url = 'https://www.rottentomatoes.com/celebrity/amber_heard'\n",
    "mojo_base_url = 'https://www.boxofficemojo.com/'"
   ]
  },
  {
   "cell_type": "code",
   "execution_count": 165,
   "id": "62dfb6b8-ab5d-4e9f-86e0-a67a0a1c018d",
   "metadata": {},
   "outputs": [],
   "source": [
    "def fetch_box_office_mojo(title):\n",
    "    \"\"\"\n",
    "    \n",
    "    \"\"\"\n",
    "    # generate url to the movie statistics\n",
    "    box_office_mojo_url = f'{mojo_base_url}search/?q={title}'\n",
    "\n",
    "    try:\n",
    "        result = requests.get(box_office_mojo_url.replace('//','/').replace(':/','://')).content\n",
    "        time.sleep(20)\n",
    "    except:\n",
    "        return {'Domestic': '$0', 'International': '$0', 'Worldwide': '$0'}\n",
    "    \n",
    "    soup = BeautifulSoup(result)\n",
    "    all_movies = soup.find_all(\"div\", {\"class\": \"a-fixed-left-grid-inner\"})\n",
    "\n",
    "    try:\n",
    "        first_option = all_movies[0].find(\"div\", {\"class\": \"a-fixed-left-grid-col\"})\n",
    "    except:\n",
    "        return {'Domestic': '$0', 'International': '$0', 'Worldwide': '$0'}\n",
    "    \n",
    "    link_to_movie = first_option.find(\"a\")[\"href\"]\n",
    "    movie_url = mojo_base_url+link_to_movie\n",
    "    \n",
    "    # fetch movie statistics\n",
    "    try:\n",
    "        soup = BeautifulSoup(requests.get(movie_url.replace('//','/').replace(':/','://')).content)\n",
    "        time.sleep(20)\n",
    "    except:\n",
    "        return {'Domestic': '$0', 'International': '$0', 'Worldwide': '$0'}\n",
    "    \n",
    "    \n",
    "    performance_summaries = soup.find(\"div\", {\"class\": \"mojo-performance-summary-table\"}).find_all(\"div\", {\"class\": \"a-section\"})\n",
    "    performance = {}\n",
    "    for summary in performance_summaries:\n",
    "        perfomance_type = summary.find(\"span\", {\"class\": \"a-size-small\"}).get_text().replace('\\n','').replace(' ','').split('(')[0]\n",
    "        try:\n",
    "            money = summary.find(\"span\", {\"class\": \"money\"}).get_text()\n",
    "        except:\n",
    "            money = '$0'\n",
    "        performance[perfomance_type] = money\n",
    "    return performance"
   ]
  },
  {
   "cell_type": "code",
   "execution_count": 166,
   "id": "65bcdac2-3fde-4b8b-b632-b939d92c11b4",
   "metadata": {
    "tags": []
   },
   "outputs": [],
   "source": [
    "def get_and_transform(url):\n",
    "    \"\"\"\n",
    "    This function sends a get request to rotten tomatoes server\n",
    "    to get the page containing data about its actors.\n",
    "\n",
    "    Param url:\n",
    "        Url to the page of the actor\n",
    "\n",
    "    Result df:\n",
    "        pandas dataframe containing data about movies related to the actor\n",
    "    \"\"\"\n",
    "    result = requests.get(url.replace('//','/').replace(':/','://')).content\n",
    "    time.sleep(20)\n",
    "    soup = BeautifulSoup(result)\n",
    "    tables = soup.find_all('table')\n",
    "    \n",
    "    # getting movies\n",
    "    movies_soup = tables[0].find('tbody')\n",
    "    movies_rows = movies_soup.find_all('tr')\n",
    "    data1 = [[row['data-audiencescore'], row['data-boxoffice'], row['data-title'], row['data-tomatometer'], row['data-year'], 'movie'] for row in movies_rows]\n",
    "\n",
    "    # geting tv shows\n",
    "    tvs_soup = tables[1].find('tbody')\n",
    "    tvs_rows = tvs_soup.find_all('tr')\n",
    "    data2 = [[row['data-audiencescore'], '', row['data-title'], row['data-tomatometer'], row['data-appearance-year'], 'tv'] for row in tvs_rows]\n",
    "    \n",
    "    # combining the two datasets and creating a pandas dataframe\n",
    "    data = data1+data2\n",
    "    columns = ['audiencescore', 'boxoffice', 'title', 'tomatometer', 'year', 'type']\n",
    "    df = pd.DataFrame(data, columns=columns)\n",
    "    \n",
    "    # some data cleaning\n",
    "    df['year'] = df['year'].apply(lambda x: str(x).replace('[','').replace(']','').split('-')[0])\n",
    "    df = df[df['tomatometer']!=0]\n",
    "    df = df[df['tomatometer']!='0']\n",
    "    \n",
    "    #get box office mojo data\n",
    "    df['performance'] = df['title'].apply(fetch_box_office_mojo)\n",
    "    expanded_df = df['performance'].apply(pd.Series)\n",
    "    df = pd.concat([df.drop(['performance'], axis=1), df['performance'].apply(pd.Series)], axis=1)\n",
    "    return df"
   ]
  },
  {
   "cell_type": "code",
   "execution_count": 167,
   "id": "3f0c1bba-fd98-4c93-8adc-62eff1243333",
   "metadata": {},
   "outputs": [],
   "source": [
    "jonny_df = get_and_transform(jonny_url)\n",
    "jonny_df.to_csv('jonny.csv', index=False)"
   ]
  },
  {
   "cell_type": "code",
   "execution_count": 168,
   "id": "36114a8f-1315-459d-bb30-311a10e6aad8",
   "metadata": {},
   "outputs": [],
   "source": [
    "amber_df = get_and_transform(amber_url)\n",
    "amber_df.to_csv('amber.csv', index=False)"
   ]
  },
  {
   "cell_type": "code",
   "execution_count": null,
   "id": "4927945b-01dd-4f80-be62-adfdbbcb1e70",
   "metadata": {},
   "outputs": [],
   "source": []
  }
 ],
 "metadata": {
  "kernelspec": {
   "display_name": "Python 3 (ipykernel)",
   "language": "python",
   "name": "python3"
  },
  "language_info": {
   "codemirror_mode": {
    "name": "ipython",
    "version": 3
   },
   "file_extension": ".py",
   "mimetype": "text/x-python",
   "name": "python",
   "nbconvert_exporter": "python",
   "pygments_lexer": "ipython3",
   "version": "3.10.0"
  }
 },
 "nbformat": 4,
 "nbformat_minor": 5
}
